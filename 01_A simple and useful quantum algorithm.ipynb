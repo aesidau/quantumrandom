{
 "cells": [
  {
   "cell_type": "markdown",
   "id": "a7a06070",
   "metadata": {},
   "source": [
    "# A simple and useful quantum algorithm\n",
    "Perhaps it's a bold claim, but I want to provide an introduction to quantum computing that is simple for someone without a University-level Mathematics or Physics background and yet creates the right intuitive understanding of how quantum computers work. I've done lots of intro courses on this topic myself, so I feel like I should be an expert on this by now. Please let me know if I've succeeded, or let me know where I could make it even simpler.\n",
    "\n",
    "Quantum computers are very different from traditional digital computers (often called Classical computers by quantum computing folk). They use _qubits_, rather than _bits_ for their computation! In my introductory blog post, [What is a qubit?](https://aes.id.au/?p=1276), I used the analogy of a coin-flipping robot arm that is flipping a coin that lands on a table. A qubit is like the coin when it is in the air, and a bit is like the coin when it has ended up on the table. When it's in the air, the coin is in a kind of probabilistic state where it may end up heads or tails, but once it's on the table, it's in a certain state where it is definitely one of either heads or tails. Quantum computers work in the realm of probabilities, and can manipulate the coin while it's still spinning in the air. The spinning coin in the air is the qubit. But at some point it will land on the table and be measured as either heads or tails. At that point it becomes a bit.\n",
    "\n",
    "To write about quantum states, a notation is used where the name of the state is put between a vertical bar and an angle bracket. Just like a single bit can be in the `0` state or the `1` state, for a single qubit, we might say it can be in the $|0\\rangle$ state or the $|1\\rangle$ state. Our robot-arm is well-calibrated, so it consistently flips a coin that lands with the same side facing up, and it's like having a qubit in one of these states. It's in a probabilistic state, but the probability of it having a particular result is 100%. Similarly, if a qubit is in the $|0\\rangle$ state, when it is measured, you will get a `0` 100% of the time.\n",
    "\n",
    "However, a quantum computer can manipulate the probabilities of the qubit, so even if it started in the $|0\\rangle$ state, it enters a new state where if it is measured, it will get `0` 50% of the time (and `1` the other 50% of the time, of course). This is done using a Hadamard operation, usually just written as H. We will use this operation to create truly random numbers.\n",
    "\n",
    "### Creating random numbers on a quantum computer \n",
    "\n",
    "Mostly when you have a computer give you a random number, such as using the RAND function in Microsoft Excel or when you're playing a computer game and the enemy does something unexpectd, the computer is actually giving you a pseudo-random number. If you could create a perfect snapshot of everything in your computer, then get it to do something random, and return to that snapshot again, it will do exactly the same random thing each time. So, it's not actually random, but it looks random unless you peer too closely.\n",
    "\n",
    "For more applications, that's fine. But if you are doing cryptography, having truly random numbers is important. You want to generate a secret key that no-one else can guess. Ideally, even if someone could take a snapshot of your computer, they still couldn't predict what secret key is generated. There are hardware random number generators that can create truly random numbers, and quantum computers can do it too.\n",
    "\n",
    "Let's say we are going to generate a 2-bit random number. We'll use 2 qubits, and the starting state of the qubits will be $|00\\rangle$, which means they are both 100% likely to measure as `0`s. We'll use a quantum computer to manipulate the qubits so that all four possibilities $|00\\rangle$, $|01\\rangle$, $|10\\rangle$, or $|11\\rangle$ are equally likely. Then when the qubits are measured, it will be completely random.\n",
    "\n",
    "Another way to write this is as a vector, with each row consisting of the probability of that outcome. Quantum computers perform their calculations using complex numbers rather than real numbers, so we'll actually write it as a vector of complex numbers, and the probabilities will be calculated by multiplying the numbers by their complex conjugate. This may sound overly complicated, but doing the maths this way turns out to accurately describe how things work at the quantum level. Also, if it helps, if a number is just a real number (without an imaginary component), the probability can be calculated by just squaring it.\n",
    "\n",
    "This vector is the _quantum state vector_ and we will start with it being $\\begin{bmatrix}\n",
    "    1.0 \\\\\n",
    "    0.0 \\\\\n",
    "    0.0 \\\\\n",
    "    0.0 \\\\\n",
    "\\end{bmatrix}$, i.e. 100% of $|00\\rangle$ outcome.\n",
    "\n",
    "We will manipulate it into being $\\begin{bmatrix}\n",
    "    \\frac{1}{\\sqrt{4}} \\\\\n",
    "    \\frac{1}{\\sqrt{4}} \\\\\n",
    "    \\frac{1}{\\sqrt{4}} \\\\\n",
    "    \\frac{1}{\\sqrt{4}} \\\\\n",
    "\\end{bmatrix}$, noting that this is the same as $\\begin{bmatrix}\n",
    "    \\frac{1}{2} \\\\\n",
    "    \\frac{1}{2} \\\\\n",
    "    \\frac{1}{2} \\\\\n",
    "    \\frac{1}{2} \\\\\n",
    "\\end{bmatrix}$, but represents a $\\frac{1}{4}$ or 25% chance of being measured as any of the four outcomes.\n",
    "\n",
    "The H operation works on all pairs of rows of the quantum state vector that only differ by the value of a specific qubit, e.g. where one row has the $|0\\rangle$ for that qubit and the other row has $|1\\rangle$, and turns the first row value into a new value that is the sum of the original values divided by $\\sqrt{2}$, and the second row value into the difference between the original values divided by $\\sqrt{2}$. While it is a division by $\\sqrt{2}$ rather an a division by $2$, you can think of H like a \"half\" operation, where it calculates half the sum and half the difference and is scaled by a normalisation constant so that when the values are squared, the probabilities add up to $1.0$. Written out mathematically, if the first row value is $a$ and the second row value is $b$, the first row value becomes $\\frac{a+b}{\\sqrt{2}}$ and the second row value becomes $\\frac{a-b}{\\sqrt{2}}$.\n",
    "\n",
    "To get the desired final state vector from the initial state vector, we can apply H to the rows associated with a difference in the right-most qubit, then apply H to the rows associated with a difference in the left-most qubit. Here's how it would go:\n",
    "| Qubits| Initial state vector | Calculating first H | Result of first H | Calculating second H | Result of second H |\n",
    "| -: | -: | -: | -: | -: | -: |\n",
    "| $|00\\rangle$ | $1.0$ | $= \\frac{1.0 + 0.0}{\\sqrt{2}}$ | $\\frac{1}{\\sqrt{2}}$ | $= \\frac{\\frac{1}{\\sqrt{2}} + 0.0}{\\sqrt{2}}$ | $\\frac{1}{2}$ |\n",
    "| $|01\\rangle$ | $0.0$ | $= \\frac{1.0 - 0.0}{\\sqrt{2}}$ | $\\frac{1}{\\sqrt{2}}$ | $= \\frac{\\frac{1}{\\sqrt{2}} - 0.0}{\\sqrt{2}}$ | $\\frac{1}{2}$ |\n",
    "| $|10\\rangle$ | $0.0$ | $= \\frac{0.0 + 0.0}{\\sqrt{2}}$ | $0.0$ | $= \\frac{\\frac{1}{\\sqrt{2}} + 0.0}{\\sqrt{2}}$ | $\\frac{1}{2}$ |\n",
    "| $|11\\rangle$ | $0.0$ | $= \\frac{0.0 - 0.0}{\\sqrt{2}}$ | $0.0$ | $= \\frac{\\frac{1}{\\sqrt{2}} - 0.0}{\\sqrt{2}}$ | $\\frac{1}{2}$ |\n",
    "\n",
    "Now that we've covered the process, let's look at how this would be written programmatically using the [Qiskit library](https://docs.quantum-computing.ibm.com/start/install) from IBM."
   ]
  },
  {
   "cell_type": "markdown",
   "id": "787cf35d",
   "metadata": {},
   "source": [
    "### Implementing this on Qiskit\n",
    "First, we need to start by importing the relevant libraries"
   ]
  },
  {
   "cell_type": "code",
   "execution_count": 1,
   "id": "1aa915aa",
   "metadata": {},
   "outputs": [],
   "source": [
    "import numpy as np\n",
    "from qiskit import QuantumCircuit, QuantumRegister, ClassicalRegister, execute, BasicAer\n",
    "from qiskit.quantum_info import Statevector\n",
    "from qiskit.visualization import plot_histogram, array_to_latex"
   ]
  },
  {
   "cell_type": "markdown",
   "id": "e15d3fb5",
   "metadata": {},
   "source": [
    "Now we're going to set up a (simulated) quantum computer with 2 qubits and 2 bits."
   ]
  },
  {
   "cell_type": "code",
   "execution_count": 2,
   "id": "ae8e3128",
   "metadata": {},
   "outputs": [],
   "source": [
    "q = QuantumRegister(2) # We want 2 qubits\n",
    "c = ClassicalRegister(2) # and also 2 bits\n",
    "circuit = QuantumCircuit(q, c) # Sets up the quantum computer, a.k.a. quantum circuit"
   ]
  },
  {
   "cell_type": "markdown",
   "id": "ee90f4d4",
   "metadata": {},
   "source": [
    "By convention, all qubits begin in the $|0\\rangle$ state as the lowest-energy state, so without doing anything, the qubits of our quantum computer should be set to $|00\\rangle$. We can check the state vector and see."
   ]
  },
  {
   "cell_type": "code",
   "execution_count": 3,
   "id": "c5bb1938",
   "metadata": {},
   "outputs": [
    {
     "data": {
      "text/latex": [
       "$$\n",
       "\n",
       "\\begin{bmatrix}\n",
       "1  \\\\\n",
       " 0  \\\\\n",
       " 0  \\\\\n",
       " 0  \\\\\n",
       " \\end{bmatrix}\n",
       "$$"
      ],
      "text/plain": [
       "<IPython.core.display.Latex object>"
      ]
     },
     "execution_count": 3,
     "metadata": {},
     "output_type": "execute_result"
    }
   ],
   "source": [
    "v1 = Statevector(circuit)\n",
    "array_to_latex(np.vstack(v1.data)) # Can do v1.draw(\"text\") as an alternative when not in Jupyter Notebook"
   ]
  },
  {
   "cell_type": "markdown",
   "id": "0d8bc0b7",
   "metadata": {},
   "source": [
    "Yes - the $|00\\rangle$ row is $1.0$ and the other possibilities are $0.0$. \n",
    "\n",
    "Qiskit numbers the right-most qubit as qubit 0, and the one to the left of it as qubit 1, with the next as qubit 2, and so on. So, let's start by using the H operator on pairs of rows associated with the $|0\\rangle$ and $|1\\rangle$ outcomes on qubit 0 (the right-most qubit)."
   ]
  },
  {
   "cell_type": "code",
   "execution_count": 4,
   "id": "0b66e8a9",
   "metadata": {},
   "outputs": [
    {
     "data": {
      "text/latex": [
       "$$\n",
       "\n",
       "\\begin{bmatrix}\n",
       "\\frac{\\sqrt{2}}{2}  \\\\\n",
       " \\frac{\\sqrt{2}}{2}  \\\\\n",
       " 0  \\\\\n",
       " 0  \\\\\n",
       " \\end{bmatrix}\n",
       "$$"
      ],
      "text/plain": [
       "<IPython.core.display.Latex object>"
      ]
     },
     "execution_count": 4,
     "metadata": {},
     "output_type": "execute_result"
    }
   ],
   "source": [
    "circuit.h(0)\n",
    "v2 = Statevector(circuit)\n",
    "array_to_latex(np.vstack(v2.data))"
   ]
  },
  {
   "cell_type": "markdown",
   "id": "08013557",
   "metadata": {},
   "source": [
    "Depending on the visualisation, this may show $\\frac{\\sqrt{2}}{2}$ or 0.70710678, for the non-zero rows, which is the same as $\\frac{1}{\\sqrt{2}}$. In any case, it's what we were expecting. Now to do the H operation on the pairs of rows associated with the other qubit."
   ]
  },
  {
   "cell_type": "code",
   "execution_count": 5,
   "id": "66869670",
   "metadata": {},
   "outputs": [
    {
     "data": {
      "text/latex": [
       "$$\n",
       "\n",
       "\\begin{bmatrix}\n",
       "\\frac{1}{2}  \\\\\n",
       " \\frac{1}{2}  \\\\\n",
       " \\frac{1}{2}  \\\\\n",
       " \\frac{1}{2}  \\\\\n",
       " \\end{bmatrix}\n",
       "$$"
      ],
      "text/plain": [
       "<IPython.core.display.Latex object>"
      ]
     },
     "execution_count": 5,
     "metadata": {},
     "output_type": "execute_result"
    }
   ],
   "source": [
    "circuit.h(1)\n",
    "v3 = Statevector(circuit)\n",
    "array_to_latex(np.vstack(v3.data))"
   ]
  },
  {
   "cell_type": "markdown",
   "id": "292c119c",
   "metadata": {},
   "source": [
    "The application of the H operations has set up the state vector so that the quantum computer should give us different randomly generated 2 bit values with uniform distribution. Let's add a measurement to the end of our process, and have the quantum computer do this 1,000 times and see what we get."
   ]
  },
  {
   "cell_type": "code",
   "execution_count": 6,
   "id": "9df94296",
   "metadata": {},
   "outputs": [
    {
     "data": {
      "image/png": "[encoded data removed]",
      "text/plain": [
       "<Figure size 700x500 with 1 Axes>"
      ]
     },
     "execution_count": 6,
     "metadata": {},
     "output_type": "execute_result"
    }
   ],
   "source": [
    "circuit.measure(q, c)\n",
    "backend = BasicAer.get_backend('qasm_simulator')\n",
    "result = execute(circuit, backend, shots=1000).result()\n",
    "plot_histogram(result.get_counts(circuit))"
   ]
  },
  {
   "cell_type": "markdown",
   "id": "8819f397",
   "metadata": {},
   "source": [
    "This shows that of the 1,000 times this was performed (1,000 \"shots\"), the different 2-bit results occurred approximately the same number of times. This is what you'd expect of a uniform distribution, noting that it is unlikely for every possibility to occur exactly the same number of times.\n",
    "\n",
    "You can extend this process to as many random bits as you want, by having a qubit for each and applying the H operator in turn across the rows for each qubit. Quantum computers are still not very big, so you'll run out of available qubits quickly, so in practice, you may be better just to re-run this process and get another two random bits each time.\n",
    "\n",
    "We used a quantum computer simulator here, so it's still a pseudo-random result. To use an actual quantum computer, you would need to set up an account on [IBM Quantum](https://quantum-computing.ibm.com/), get an API key, and change the backend to point at an instance of a quantum computer from their cloud. This is easy enough to do, but complicates a generic Jupyter Notebook.\n",
    "\n",
    "You can then access true random bits that can be fed into any software that needs it. With all that, you have seen how to create a simple quantum algorithm and make it do something useful that is not easily done on a digital computer."
   ]
  }
 ],
 "metadata": {
  "kernelspec": {
   "display_name": "Python 3 (ipykernel)",
   "language": "python",
   "name": "python3"
  },
  "language_info": {
   "codemirror_mode": {
    "name": "ipython",
    "version": 3
   },
   "file_extension": ".py",
   "mimetype": "text/x-python",
   "name": "python",
   "nbconvert_exporter": "python",
   "pygments_lexer": "ipython3",
   "version": "3.11.5"
  }
 },
 "nbformat": 4,
 "nbformat_minor": 5
}
