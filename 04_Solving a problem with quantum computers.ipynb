{
 "cells": [
  {
   "cell_type": "markdown",
   "id": "aec1e5f5",
   "metadata": {},
   "source": [
    "# Solving a problem with quantum computers"
   ]
  },
  {
   "cell_type": "code",
   "execution_count": 1,
   "id": "5838c415",
   "metadata": {},
   "outputs": [],
   "source": [
    "import numpy as np\n",
    "from qiskit import QuantumCircuit, QuantumRegister, ClassicalRegister, execute, BasicAer\n",
    "from qiskit.visualization import plot_histogram, array_to_latex\n",
    "from qiskit.quantum_info import Statevector\n",
    "backend = BasicAer.get_backend('qasm_simulator')"
   ]
  },
  {
   "cell_type": "markdown",
   "id": "3af92482",
   "metadata": {},
   "source": [
    "Generating random numbers from a variety of specific probability distributions is interesting, and so is implementing digital computer operations on a quantum computer so that multiple operations are performed simulaneously. However neither of these is enough to justify the hype around quantum computers. Let's now take a look at an example of something where quantum computers can significantly outperform digital computers. It's known as [Grover's algorithm](https://en.wikipedia.org/wiki/Grover%27s_algorithm), and allows a quantum computer to take a function that might be performed on digital computers, and wrap it in some quantum goodness that quickly solves for it. Specifically, the function is a type where it has one (or just a couple) of solutions, and where the approach to solve for it on a digital computer would be to \"brute force\" the answer by trying every possible solution to check if it works. On a quantum computer, there are some tricks to try the function fewer times, or even just once, and yet still figure out the solution.\n",
    "\n",
    "Functions of this type, that have one specific solution, exist all over the place. So, this is a potentially highly useful application for quantum computers. For example, a function that checks a possible set of numbers to a particular [Sudoku puzzle](https://en.wikipedia.org/wiki/Sudoku) to confirm if it is a correct solution, a function that checks a password to see if it matches an encrypted password entry for a user, or a function that confirms the colour of a particular pixel in an image is correct for a given 3D scene with a particular set of objects and lighting. Many different problems can be rewritten in terms of a function that checks if an answer is correct.\n",
    "\n",
    "However, before seeing how to do this on a quantum computer, we need to introduce a couple of new operations. "
   ]
  },
  {
   "cell_type": "markdown",
   "id": "fa2812d1",
   "metadata": {},
   "source": [
    "### Z operation\n",
    "The Z operation works on all pairs of rows in the state vector associated with different values of a particular qubit, and flips the sign on the second row of each pair. We can call it the \"flip\" operation. Let's have a quick look at an example.\n",
    "\n",
    "If we start with an H(0) operator and an H(1) operator, as we did in the first notebook, we have the same value on each row of the state vector. If we then do a Z(0) follwed by a Z(1), you can see the signs flip but the numbers otherwise stay the same.\n",
    "| Qubits| Initial state vector | H(0) | H(1) | Z(0) | Z(1) |\n",
    "| :- | :- | :- | :- | :- | :- |\n",
    "| $|00\\rangle$ | $1.0$ | $\\frac{1}{\\sqrt{2}}$ | $\\frac{1}{2}$ | $\\frac{1}{2}$  | $\\frac{1}{2}$  |\n",
    "| $|01\\rangle$ | $0.0$ | $\\frac{1}{\\sqrt{2}}$ | $\\frac{1}{2}$ | -$\\frac{1}{2}$ | -$\\frac{1}{2}$ |\n",
    "| $|10\\rangle$ | $0.0$ | $0.0$                | $\\frac{1}{2}$ | $\\frac{1}{2}$  | -$\\frac{1}{2}$ |\n",
    "| $|11\\rangle$ | $0.0$ | $0.0$                | $\\frac{1}{2}$ | -$\\frac{1}{2}$ | $\\frac{1}{2}$  |\n",
    "\n",
    "We saw negative probabilities in the notebook where we introduced the RY operation, and here they are again. They are the key to how Grover's algorithm works.\n",
    "\n",
    "### CCZ operation\n",
    "Similarly to CCX, the CCZ is \"doubly constrained\". In this case, it is a \"doubly constrained flip\" operation. Constrained to just those rows where the two specified qubits are $|1\\rangle$, it flips the sign of the second row of all pairs where the third qubit is the only one changing. Since the second row of these pairs is also the row where the third qubit is $|1\\rangle$, another way to think about this operation is flipping the sign of all rows where the three specified qubits are $|1\\rangle$.\n",
    "\n",
    "Here's an example of CCZ in practice:\n",
    "| Qubits| Initial state vector | H(0) | H(1) | H(2) | CCZ(0, 1, 2) |\n",
    "| :- | :- | :- | :- | :- | :- |\n",
    "| $|000\\rangle$ ($|0\\rangle$) | $1.0$ | $\\frac{1}{\\sqrt{2}}$ | $\\frac{1}{2}$ | $\\frac{1}{\\sqrt{8}}$ | $\\frac{1}{\\sqrt{8}}$ |\n",
    "| $|001\\rangle$ ($|1\\rangle$) | $0.0$ | $\\frac{1}{\\sqrt{2}}$ | $\\frac{1}{2}$ | $\\frac{1}{\\sqrt{8}}$ | $\\frac{1}{\\sqrt{8}}$ |\n",
    "| $|010\\rangle$ ($|2\\rangle$) | $0.0$ | $0.0$ | $\\frac{1}{2}$ | $\\frac{1}{\\sqrt{8}}$ | $\\frac{1}{\\sqrt{8}}$ |\n",
    "| $|011\\rangle$ ($|3\\rangle$) | $0.0$ | $0.0$ | $\\frac{1}{2}$ | $\\frac{1}{\\sqrt{8}}$ | $\\frac{1}{\\sqrt{8}}$ |\n",
    "| $|100\\rangle$ ($|4\\rangle$) | $0.0$ | $0.0$ | $0.0$ | $\\frac{1}{\\sqrt{8}}$ | $\\frac{1}{\\sqrt{8}}$ |\n",
    "| $|101\\rangle$ ($|5\\rangle$) | $0.0$ | $0.0$ | $0.0$ | $\\frac{1}{\\sqrt{8}}$ | $\\frac{1}{\\sqrt{8}}$ |\n",
    "| $|110\\rangle$ ($|6\\rangle$) | $0.0$ | $0.0$ | $0.0$ | $\\frac{1}{\\sqrt{8}}$ | $\\frac{1}{\\sqrt{8}}$ |\n",
    "| $|111\\rangle$ ($|7\\rangle$) | $0.0$ | $0.0$ | $0.0$ | $\\frac{1}{\\sqrt{8}}$ | $-\\frac{1}{\\sqrt{8}}$ |\n"
   ]
  },
  {
   "cell_type": "markdown",
   "id": "4a781476",
   "metadata": {},
   "source": [
    "### Implementing a verifier\n",
    "The other thing that Grover's algorithm needs is a function that verifies whether a value is a valid solution to some problem. All it needs to do is take a potential solution, and tell us \"yes\" or \"no\".\n",
    "\n",
    "We can do this by considering some of the qubits to represent a proposed solution, and one other qubit to represent \"yes\" if it is $|1\\rangle$ or \"no\" if it is $|0\\rangle$. In the example implemented here, qubits 0 and 1 will represent potential solutions, and qubit 2 will represent the result of validating it.\n",
    "\n",
    "On a digital computer, we would think about this as bits. We would implement some logical operations that take two bits representing potential solutions and return another bit with the validation result. As we saw in the last notebook, we can implement the deterministic operations of a digital computer on a quantum computer by using X, CX, CCX, etc. operations.\n",
    "\n",
    "Let's say we want our verifier function to take state vectors where one of $|000\\rangle$, $|001\\rangle$, $|010\\rangle$, or $|011\\rangle$ rows has the value $1.0$ (100%), and only if it's the \"right\" one, will the state vector be changed so that the corresponding row where qubit 2 is $|1\\rangle$ becomes $1.0$. For example, if $|011\\rangle$ is the right solution, this would be implemented simply with the function CCX(0, 1, 2).\n",
    "\n",
    "Firstly, let's use X operations to encode the value 3 into the state vector, by putting the value $1.0$ in the $|011\\rangle$ ($|3\\rangle$) row."
   ]
  },
  {
   "cell_type": "code",
   "execution_count": 2,
   "id": "5f64c9be",
   "metadata": {},
   "outputs": [
    {
     "data": {
      "text/latex": [
       "$$\n",
       "\n",
       "\\begin{bmatrix}\n",
       "0  \\\\\n",
       " 0  \\\\\n",
       " 0  \\\\\n",
       " 1  \\\\\n",
       " 0  \\\\\n",
       " 0  \\\\\n",
       " 0  \\\\\n",
       " 0  \\\\\n",
       " \\end{bmatrix}\n",
       "$$"
      ],
      "text/plain": [
       "<IPython.core.display.Latex object>"
      ]
     },
     "execution_count": 2,
     "metadata": {},
     "output_type": "execute_result"
    }
   ],
   "source": [
    "q = QuantumRegister(3) # We want 3 qubits\n",
    "c = ClassicalRegister(2) # but we care about only 2 bits\n",
    "circuit = QuantumCircuit(q, c) # Sets up the quantum computer, a.k.a. quantum circuit\n",
    "circuit.x(0)\n",
    "circuit.x(1)\n",
    "\n",
    "v1 = Statevector(circuit)\n",
    "array_to_latex(np.vstack(v1.data))"
   ]
  },
  {
   "cell_type": "markdown",
   "id": "e898e0d9",
   "metadata": {},
   "source": [
    "Now if we perform CCX(0, 1, 2), the values in $|011\\rangle$ ($|3\\rangle$) and $|111\\rangle$ ($|7\\rangle$) will be swapped, moving the $1.0$ value to the final row, where qubit 2 has a value of $|1\\rangle$. Since we know that CCX is constrained to work only on these rows, we know that only where the $|011\\rangle$ potential solution is given the $1.0$ value will the state vector be changed to have $1.0$ on a row where qubit 2 is $|1\\rangle$. The other three potential solutions will result in no change."
   ]
  },
  {
   "cell_type": "code",
   "execution_count": 3,
   "id": "77a5c91a",
   "metadata": {},
   "outputs": [
    {
     "data": {
      "text/latex": [
       "$$\n",
       "\n",
       "\\begin{bmatrix}\n",
       "0  \\\\\n",
       " 0  \\\\\n",
       " 0  \\\\\n",
       " 0  \\\\\n",
       " 0  \\\\\n",
       " 0  \\\\\n",
       " 0  \\\\\n",
       " 1  \\\\\n",
       " \\end{bmatrix}\n",
       "$$"
      ],
      "text/plain": [
       "<IPython.core.display.Latex object>"
      ]
     },
     "execution_count": 3,
     "metadata": {},
     "output_type": "execute_result"
    }
   ],
   "source": [
    "circuit.ccx(0, 1, 2)\n",
    "v2 = Statevector(circuit)\n",
    "array_to_latex(np.vstack(v2.data))"
   ]
  },
  {
   "cell_type": "markdown",
   "id": "078619f9",
   "metadata": {},
   "source": [
    "To create different verifier functions, we can use X operations and specify either qubit 0 or qubit 1. For example, to create a function that will answer \"yes\" for the potential solution $|01\\rangle$ and \"no\" the other three potential solutions, we simply do X(1) before doing CCX(0, 1, 2). We will also do X(1) again after the CCX to \"undo\" the first X, and ensure the state vector has $1.0$ in the $|101\\rangle$ ($|5\\rangle$) row:\n",
    "| Qubits| Initial state vector | X(1) | CCX(0, 1, 2) | X(1) |\n",
    "| :- | :- | :- | :- | :- |\n",
    "| $|000\\rangle$ ($|0\\rangle$) | $0.0$ | $0.0$ | $0.0$ | $0.0$ |\n",
    "| $|001\\rangle$ ($|1\\rangle$) | $1.0$ | $0.0$ | $0.0$ | $0.0$ |\n",
    "| $|010\\rangle$ ($|2\\rangle$) | $0.0$ | $0.0$ | $0.0$ | $0.0$ |\n",
    "| $|011\\rangle$ ($|3\\rangle$) | $0.0$ | $1.0$ | $0.0$ | $0.0$ |\n",
    "| $|100\\rangle$ ($|4\\rangle$) | $0.0$ | $0.0$ | $0.0$ | $0.0$ |\n",
    "| $|101\\rangle$ ($|5\\rangle$) | $0.0$ | $0.0$ | $0.0$ | $1.0$ |\n",
    "| $|110\\rangle$ ($|6\\rangle$) | $0.0$ | $0.0$ | $0.0$ | $0.0$ |\n",
    "| $|111\\rangle$ ($|7\\rangle$) | $0.0$ | $0.0$ | $1.0$ | $0.0$ |\n",
    "\n",
    "Implementing this in Qiskit:"
   ]
  },
  {
   "cell_type": "code",
   "execution_count": 4,
   "id": "87a3f4a8",
   "metadata": {},
   "outputs": [],
   "source": [
    "# Verifies that a proposed solution is correct only when it is |10>\n",
    "def add_verify(circuit):\n",
    "    circuit.x(1)\n",
    "    circuit.ccx(0, 1, 2)\n",
    "    circuit.x(1)"
   ]
  },
  {
   "cell_type": "code",
   "execution_count": 5,
   "id": "8dfdecc9",
   "metadata": {},
   "outputs": [
    {
     "data": {
      "text/latex": [
       "$$\n",
       "\n",
       "\\begin{bmatrix}\n",
       "0  \\\\\n",
       " 0  \\\\\n",
       " 0  \\\\\n",
       " 0  \\\\\n",
       " 0  \\\\\n",
       " 1  \\\\\n",
       " 0  \\\\\n",
       " 0  \\\\\n",
       " \\end{bmatrix}\n",
       "$$"
      ],
      "text/plain": [
       "<IPython.core.display.Latex object>"
      ]
     },
     "execution_count": 5,
     "metadata": {},
     "output_type": "execute_result"
    }
   ],
   "source": [
    "circuit = QuantumCircuit(q, c) # Sets up the quantum computer, a.k.a. quantum circuit\n",
    "circuit.x(0) # Ensure the state vector has 100% in the |001> row\n",
    "add_verify(circuit)\n",
    "v3 = Statevector(circuit)\n",
    "array_to_latex(np.vstack(v3.data))"
   ]
  },
  {
   "cell_type": "markdown",
   "id": "75b4602f",
   "metadata": {},
   "source": [
    "However, we need to modify the verifier function a little first. We are going to apply the H operation on the result qubit (qubit 2) before running the function, and then again afterwards.\n",
    "\n",
    "This is a little trick that turns an X operation into a Z operation. So, the CCX operation effectively becomes like a CCZ operation. And yes, the verifier function could have just been written with a CCZ instead of a CCX and we could skip the H operations, but digital computer operations don't use Z type operations, and this way the algorithm is more general."
   ]
  },
  {
   "cell_type": "code",
   "execution_count": 6,
   "id": "939a30eb",
   "metadata": {},
   "outputs": [],
   "source": [
    "def add_verify_with_h(circuit):\n",
    "    circuit.h(2)\n",
    "    add_verify(circuit)\n",
    "    circuit.h(2)"
   ]
  },
  {
   "cell_type": "markdown",
   "id": "056528fa",
   "metadata": {},
   "source": [
    "This version of the function will now flip the sign of the state vector row with the answer. Unfortunately, we can't stop here with the job done, because in practice we can't read the state vector out of the quantum computer. All we can do is take measurements of the qubits, and while we can have a negative value in a row of a state vector, we won't see a negative probabilty appear in measurements.\n",
    "\n",
    "Grover's algorithm is about amplifying the negative row so it will have a higher probability in the measurements."
   ]
  },
  {
   "cell_type": "markdown",
   "id": "3ade181d",
   "metadata": {},
   "source": [
    "### Grover's algorithm\n",
    "Normally the verification function will be quite complicated, and difficult to figure out from just looking at it. Our verification function is simple, but that's fine for learning how Grover's algorithm works.\n",
    "\n",
    "The basic strategy for using Grover's algorithm is to:\n",
    "1. Prepare the state vector so it has the same value on every row, i.e. no row has a zero value.\n",
    "2. Apply the verification function, which will flip the sign of the row corresponding to the right answer.\n",
    "3. Amplify the negative rows compared to the non-negative rows.\n",
    "\n",
    "Then we measure the qubits, and the most likely result should be the right answer. For larger numbers of qubits, the steps 2 and 3 will typically be repeated to make the right answer clearer, but we shouldn't need to do that for our example.\n",
    "\n",
    "We've already defined the verification function, but here's the state preparation function:"
   ]
  },
  {
   "cell_type": "code",
   "execution_count": 7,
   "id": "82dce379",
   "metadata": {},
   "outputs": [],
   "source": [
    "def add_prepare(circuit):\n",
    "    circuit.h(0)\n",
    "    circuit.h(1)\n",
    "    circuit.h(2)"
   ]
  },
  {
   "cell_type": "markdown",
   "id": "19cb46b0",
   "metadata": {},
   "source": [
    "It is just the approach to creating a uniform probability distribution that we saw in the first notebook.\n",
    "\n",
    "We can see how the verification function just flips the sign of the answer row ($|101\\rangle$) when given a state vector with $\\frac{1}{\\sqrt{8}}$ values in all of its rows:"
   ]
  },
  {
   "cell_type": "code",
   "execution_count": 8,
   "id": "d8d1dd4b",
   "metadata": {},
   "outputs": [
    {
     "data": {
      "text/latex": [
       "$$\n",
       "\n",
       "\\begin{bmatrix}\n",
       "\\frac{\\sqrt{2}}{4}  \\\\\n",
       " \\frac{\\sqrt{2}}{4}  \\\\\n",
       " \\frac{\\sqrt{2}}{4}  \\\\\n",
       " \\frac{\\sqrt{2}}{4}  \\\\\n",
       " \\frac{\\sqrt{2}}{4}  \\\\\n",
       " - \\frac{\\sqrt{2}}{4}  \\\\\n",
       " \\frac{\\sqrt{2}}{4}  \\\\\n",
       " \\frac{\\sqrt{2}}{4}  \\\\\n",
       " \\end{bmatrix}\n",
       "$$"
      ],
      "text/plain": [
       "<IPython.core.display.Latex object>"
      ]
     },
     "execution_count": 8,
     "metadata": {},
     "output_type": "execute_result"
    }
   ],
   "source": [
    "circuit = QuantumCircuit(q, c) # Sets up the quantum computer, a.k.a. quantum circuit\n",
    "add_prepare(circuit)\n",
    "add_verify_with_h(circuit)\n",
    "v4 = Statevector(circuit)\n",
    "array_to_latex(np.vstack(v4.data))"
   ]
  },
  {
   "cell_type": "markdown",
   "id": "a895314d",
   "metadata": {},
   "source": [
    "The amplification function requires a bit of explanation. \n",
    "\n",
    "The idea is to make everything a bit more negative, and because one row is already negative, that row becomes much more negative than the other rows. As the probability of the outcome of a measurement being a given row is equal to the square of the value of that row, it doesn't matter than the values are negative. The row that is more negative than the other rows will end up becoming a more likely outcome.\n",
    "\n",
    "The workhorse of the procedure is the H operation. As we discussed in the first notebook, it is like a \"half\" operation, where it works on all pairs of rows that differ only by a specific qubit, and turns the first of these into the sum of the pairs divided by the root of a half, and the second into the difference of the pairs divided by the root of a half.\n",
    "\n",
    "There are two observations worth noting here. Firstly, it puts the sums of the pairs into the first row, i.e. the row where the specific qubit is $|0\\rangle$. Secondly, it is its own inverse, i.e. that it you perform two identical H operations in sequence, the second operation undoes the first one.\n",
    "\n",
    "Using these two observations, the amplification function applies the H operation for each of the qubits in turn, resulting in all rows being summed into the first row of the state vector, i.e. corresponding to $|000\\rangle$, although this sum will be divided by the root of 8, which is the result of applying $\\frac{1}{\\sqrt{2}}$ in the calculations three times. However, this row will be a large, positive value.\n",
    "\n",
    "Then the amplificiation function flips the sign on the $|000\\rangle$ row, making it a large, negative value. Lastly, the H operation is applied for each qubit in turn, reversing the earlier H operations, but spreading the amount \"taken\" from the $|000\\rangle$ row across all of the other rows.\n",
    "\n",
    "Let's see it in action. Firstly, let's apply H for each qubit. We can do this by reusing the prepare function:"
   ]
  },
  {
   "cell_type": "code",
   "execution_count": 9,
   "id": "6575add2",
   "metadata": {},
   "outputs": [
    {
     "data": {
      "text/latex": [
       "$$\n",
       "\n",
       "\\begin{bmatrix}\n",
       "\\frac{3}{4}  \\\\\n",
       " \\frac{1}{4}  \\\\\n",
       " - \\frac{1}{4}  \\\\\n",
       " \\frac{1}{4}  \\\\\n",
       " \\frac{1}{4}  \\\\\n",
       " - \\frac{1}{4}  \\\\\n",
       " \\frac{1}{4}  \\\\\n",
       " - \\frac{1}{4}  \\\\\n",
       " \\end{bmatrix}\n",
       "$$"
      ],
      "text/plain": [
       "<IPython.core.display.Latex object>"
      ]
     },
     "execution_count": 9,
     "metadata": {},
     "output_type": "execute_result"
    }
   ],
   "source": [
    "add_prepare(circuit)\n",
    "v5 = Statevector(circuit)\n",
    "array_to_latex(np.vstack(v5.data))"
   ]
  },
  {
   "cell_type": "markdown",
   "id": "674accac",
   "metadata": {},
   "source": [
    "After the verify function was performed, all rows were $\\frac{1}{\\sqrt{8}}$, except for the solution row which was negative. The sum of all rows is $\\frac{6}{\\sqrt{8}}$ and this value divided by $\\sqrt{8}$ is $\\frac{3}{4}$, which is what we've ended up with in row $|000\\rangle$ after the first part of the amplication procedure.\n",
    "\n",
    "Next we flip the sign on that row so it becomes negative. We can do this by using the X operation for each qubit, to reverse the order of the state vector. (Note how efficiently a quantum computer can reverse a list!) Then use CCZ to flip the sign on row $|111\\rangle$, then use X operations again to un-reverse the state vector."
   ]
  },
  {
   "cell_type": "code",
   "execution_count": 10,
   "id": "17ddae82",
   "metadata": {},
   "outputs": [
    {
     "data": {
      "text/latex": [
       "$$\n",
       "\n",
       "\\begin{bmatrix}\n",
       "- \\frac{3}{4}  \\\\\n",
       " \\frac{1}{4}  \\\\\n",
       " - \\frac{1}{4}  \\\\\n",
       " \\frac{1}{4}  \\\\\n",
       " \\frac{1}{4}  \\\\\n",
       " - \\frac{1}{4}  \\\\\n",
       " \\frac{1}{4}  \\\\\n",
       " - \\frac{1}{4}  \\\\\n",
       " \\end{bmatrix}\n",
       "$$"
      ],
      "text/plain": [
       "<IPython.core.display.Latex object>"
      ]
     },
     "execution_count": 10,
     "metadata": {},
     "output_type": "execute_result"
    }
   ],
   "source": [
    "circuit.x(0)\n",
    "circuit.x(1)\n",
    "circuit.x(2)\n",
    "circuit.ccz(0, 1, 2)\n",
    "circuit.x(0)\n",
    "circuit.x(1)\n",
    "circuit.x(2)\n",
    "v6 = Statevector(circuit)\n",
    "array_to_latex(np.vstack(v6.data))"
   ]
  },
  {
   "cell_type": "markdown",
   "id": "65314fda",
   "metadata": {},
   "source": [
    "Note that in flipping the sign on row $|000\\rangle$, we have deducted an amount equal to $\\frac{6}{4}$ (or $\\frac{3}{2}$) from this row. This reduction will now be spread back across all the rows by using the H operation for each qubit again. "
   ]
  },
  {
   "cell_type": "code",
   "execution_count": 11,
   "id": "b09e06fa",
   "metadata": {},
   "outputs": [
    {
     "data": {
      "text/latex": [
       "$$\n",
       "\n",
       "\\begin{bmatrix}\n",
       "-0.1767766953  \\\\\n",
       " -0.1767766953  \\\\\n",
       " -0.1767766953  \\\\\n",
       " -0.1767766953  \\\\\n",
       " -0.1767766953  \\\\\n",
       " -0.8838834765  \\\\\n",
       " -0.1767766953  \\\\\n",
       " -0.1767766953  \\\\\n",
       " \\end{bmatrix}\n",
       "$$"
      ],
      "text/plain": [
       "<IPython.core.display.Latex object>"
      ]
     },
     "execution_count": 11,
     "metadata": {},
     "output_type": "execute_result"
    }
   ],
   "source": [
    "add_prepare(circuit)\n",
    "v7 = Statevector(circuit)\n",
    "array_to_latex(np.vstack(v7.data))"
   ]
  },
  {
   "cell_type": "markdown",
   "id": "5d3f035e",
   "metadata": {},
   "source": [
    "The reduction by $\\frac{3}{2}$ has been divided by $\\sqrt{8}$ again, so the difference between these values and the ones after the verify function is just $\\frac{3}{\\sqrt{32}}$. All of the rows that were $\\frac{1}{\\sqrt{8}}$ are now $-\\frac{1}{\\sqrt{32}}$, and the single row that was $-\\frac{1}{\\sqrt{8}}$ is now $-\\frac{5}{\\sqrt{32}}$. The visualisation here in the notebook probably doesn't show it, and just shows $-0.17678$ (or similar) for all rows except one that shows $-0.88388$ (or similar).\n",
    "\n",
    "Now that we've worked through the operation of the amplify function, we can define it as a Python function:"
   ]
  },
  {
   "cell_type": "code",
   "execution_count": 12,
   "id": "54ad92d5",
   "metadata": {},
   "outputs": [],
   "source": [
    "def add_amplify(circuit):\n",
    "    add_prepare(circuit)\n",
    "    circuit.x(0)\n",
    "    circuit.x(1)\n",
    "    circuit.x(2)\n",
    "    circuit.ccz(0, 1, 2)\n",
    "    circuit.x(0)\n",
    "    circuit.x(1)\n",
    "    circuit.x(2)\n",
    "    add_prepare(circuit)"
   ]
  },
  {
   "cell_type": "markdown",
   "id": "df4945e3",
   "metadata": {},
   "source": [
    "Let's now see the whole thing in action, and what gets measured at the end."
   ]
  },
  {
   "cell_type": "code",
   "execution_count": 13,
   "id": "b4cc9178",
   "metadata": {},
   "outputs": [
    {
     "data": {
      "image/png": "[encoded data removed]",
      "text/plain": [
       "<Figure size 700x500 with 1 Axes>"
      ]
     },
     "execution_count": 13,
     "metadata": {},
     "output_type": "execute_result"
    }
   ],
   "source": [
    "circuit = QuantumCircuit(q, c) # Sets up the quantum computer, a.k.a. quantum circuit\n",
    "\n",
    "add_prepare(circuit)\n",
    "add_verify_with_h(circuit)\n",
    "add_amplify(circuit)\n",
    "\n",
    "circuit.measure(q[0:2], c)          # Measure the two qubits 0 and 1, and get some bits\n",
    "result = execute(circuit, backend, shots=1000).result()    # Run this all 1,000 times\n",
    "plot_histogram(result.get_counts(circuit))                 # Show a histogram of the results"
   ]
  },
  {
   "cell_type": "markdown",
   "id": "bda504c5",
   "metadata": {},
   "source": [
    "You can go back and set up the verify function differently, and you'll see that the algorithm will still reveal the correct solution in the measurements.\n",
    "\n",
    "In this way, the quantum computer hasn't needed to brute force the answer, by trying the verification function over and over again until it finds the answer. The fact that the verification function can be used to make a row in the state vector negative was enough to allow this negative value to be amplified, and set up a probability distribution that makes the answer pop out more often in the measurements.\n",
    "\n",
    "As I mentioned at the start, it may be that the \n",
    "```\n",
    "add_verify_with_h(circuit)\n",
    "add_amplify(circuit)\n",
    "```\n",
    "steps need to be repeated as the number of qubits increases. However, it won't need to be done as frequently as once per qubit, so it will continue to be more efficient than the brute force approach that a digital computer has to use."
   ]
  }
 ],
 "metadata": {
  "kernelspec": {
   "display_name": "Python 3 (ipykernel)",
   "language": "python",
   "name": "python3"
  },
  "language_info": {
   "codemirror_mode": {
    "name": "ipython",
    "version": 3
   },
   "file_extension": ".py",
   "mimetype": "text/x-python",
   "name": "python",
   "nbconvert_exporter": "python",
   "pygments_lexer": "ipython3",
   "version": "3.11.5"
  }
 },
 "nbformat": 4,
 "nbformat_minor": 5
}
