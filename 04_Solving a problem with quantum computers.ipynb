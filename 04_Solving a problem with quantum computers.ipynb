{
 "cells": [
  {
   "cell_type": "markdown",
   "id": "aec1e5f5",
   "metadata": {},
   "source": [
    "# Solving a problem with quantum computers"
   ]
  },
  {
   "cell_type": "code",
   "execution_count": 1,
   "id": "5838c415",
   "metadata": {},
   "outputs": [],
   "source": [
    "from qiskit import QuantumCircuit, QuantumRegister, ClassicalRegister, execute, BasicAer\n",
    "from qiskit.visualization import plot_histogram, array_to_latex\n",
    "from qiskit.quantum_info import Statevector\n",
    "import numpy as np\n",
    "backend = BasicAer.get_backend('qasm_simulator')"
   ]
  },
  {
   "cell_type": "markdown",
   "id": "3af92482",
   "metadata": {},
   "source": [
    "Generating random numbers from a variety of specific probability distributions is interesting, and so is implementing digital computer operations on a quantum computer so that multiple operations are performed simulaneously. However neither of these is enough to justify the hype around quantum computers. Let's now take a look at an example of something where quantum computers can significantly outperform digital computers. It's known as [Grover's algorithm](https://en.wikipedia.org/wiki/Grover%27s_algorithm), and allows a quantum computer to take a function that might be performed on digital computers, and wrap it in some quantum goodness that quickly solves for it. Specifically, the function is a type where it has one (or just a couple) of solutions, and where the approach to solve for it on a digital computer would be to \"brute force\" the answer by trying every possible solution to check if it works. On a quantum computer, there are some tricks to try the function fewer times, or even just once, and yet still figure out the solution.\n",
    "\n",
    "Functions of this type, that have one specific solution, exist all over the place. So, this is a potentially highly useful application for quantum computers. For example, a function that checks a possible set of numbers to a particular [Sudoku puzzle](https://en.wikipedia.org/wiki/Sudoku) to confirm if it is a correct solution, a function that checks a password to see if it matches an encrypted password entry for a user, or a function that confirms the colour of a particular pixel in an image is correct for a given 3D scene with a particular set of objects and lighting. Many different problems can be rewritten in terms of a function that checks if an answer is correct.\n",
    "\n",
    "However, before seeing how to do this on a quantum computer, we need to introduce a couple of new operations. \n",
    "\n",
    "https://en.wikipedia.org/wiki/Grover%27s_algorithm\n",
    "https://www.ictp-saifr.org/wp-content/uploads/2022/11/ICTP_SAIFR_D1-L2.pdf\n",
    "https://qiskit.org/ecosystem/algorithms/tutorials/06_grover.html\n",
    "https://learn.qiskit.org/course/ch-algorithms/grovers-algorithm\n",
    "https://www.quantum-inspire.com/kbase/grover-algorithm/"
   ]
  },
  {
   "cell_type": "markdown",
   "id": "fa2812d1",
   "metadata": {},
   "source": [
    "### Z operation\n",
    "The Z operation works on all pairs of rows in the state vector associated with different values of a particular qubit, and flips the sign on the second row of each pair. We can call it the \"flip\" operation. Let's have a quick look at an example.\n",
    "\n",
    "If we start with an H(0) operator and an H(1) operator, as we did in the first notebook, we have the same value on each row of the state vector. If we then do a Z(0) follwed by a Z(1), you can see the signs flip but the numbers otherwise stay the same.\n",
    "| Qubits| Initial state vector | H(0) | H(1) | Z(0) | Z(1) |\n",
    "| :- | :- | :- | :- | :- | :- |\n",
    "| $|00\\rangle$ | $1.0$ | $\\frac{1}{\\sqrt{2}}$ | $\\frac{1}{2}$ | $\\frac{1}{2}$  | $\\frac{1}{2}$  |\n",
    "| $|01\\rangle$ | $0.0$ | $\\frac{1}{\\sqrt{2}}$ | $\\frac{1}{2}$ | -$\\frac{1}{2}$ | -$\\frac{1}{2}$ |\n",
    "| $|10\\rangle$ | $0.0$ | $0.0$                | $\\frac{1}{2}$ | $\\frac{1}{2}$  | -$\\frac{1}{2}$ |\n",
    "| $|11\\rangle$ | $0.0$ | $0.0$                | $\\frac{1}{2}$ | -$\\frac{1}{2}$ | $\\frac{1}{2}$  |\n",
    "\n",
    "We saw negative probabilities in the notebook where we introduced the RY operation, and here they are again. They are the key to how Grover's algorithm works.\n",
    "\n",
    "### CCZ operation\n",
    "Similarly to CCX, the CCZ is \"doubly constrained\". In this case, it is a \"doubly constrained flip\" operation. Constrained to just those rows where the two specified qubits are $|1\\rangle$, it flips the sign of the second row of all pairs where the third qubit is the only one changing. Since the second row of these pairs is also the row where the third qubit is $|1\\rangle$, another way to think about this operation is flipping the sign of all rows where the three specified qubits are $|1\\rangle$.\n",
    "\n",
    "Here's an example of CCZ in practice:\n",
    "| Qubits| Initial state vector | H(0) | H(1) | H(2) | CCZ(0, 1, 2) |\n",
    "| :- | :- | :- | :- | :- | :- |\n",
    "| $|000\\rangle$ ($|0\\rangle$) | $1.0$ | $\\frac{1}{\\sqrt{2}}$ | $\\frac{1}{2}$ | $\\frac{1}{\\sqrt{8}}$ | $\\frac{1}{\\sqrt{8}}$ |\n",
    "| $|001\\rangle$ ($|1\\rangle$) | $0.0$ | $\\frac{1}{\\sqrt{2}}$ | $\\frac{1}{2}$ | $\\frac{1}{\\sqrt{8}}$ | $\\frac{1}{\\sqrt{8}}$ |\n",
    "| $|010\\rangle$ ($|2\\rangle$) | $0.0$ | $0.0$ | $\\frac{1}{2}$ | $\\frac{1}{\\sqrt{8}}$ | $\\frac{1}{\\sqrt{8}}$ |\n",
    "| $|011\\rangle$ ($|3\\rangle$) | $0.0$ | $0.0$ | $\\frac{1}{2}$ | $\\frac{1}{\\sqrt{8}}$ | $\\frac{1}{\\sqrt{8}}$ |\n",
    "| $|100\\rangle$ ($|4\\rangle$) | $0.0$ | $0.0$ | $0.0$ | $\\frac{1}{\\sqrt{8}}$ | $\\frac{1}{\\sqrt{8}}$ |\n",
    "| $|101\\rangle$ ($|5\\rangle$) | $0.0$ | $0.0$ | $0.0$ | $\\frac{1}{\\sqrt{8}}$ | $\\frac{1}{\\sqrt{8}}$ |\n",
    "| $|110\\rangle$ ($|6\\rangle$) | $0.0$ | $0.0$ | $0.0$ | $\\frac{1}{\\sqrt{8}}$ | $\\frac{1}{\\sqrt{8}}$ |\n",
    "| $|111\\rangle$ ($|7\\rangle$) | $0.0$ | $0.0$ | $0.0$ | $\\frac{1}{\\sqrt{8}}$ | $-\\frac{1}{\\sqrt{8}}$ |\n"
   ]
  },
  {
   "cell_type": "markdown",
   "id": "4a781476",
   "metadata": {},
   "source": [
    "### Implementing a verifier\n",
    "The other thing that Grover's algorithm needs is a function that verifies whether a value is a valid solution to some problem. All it needs to do is take a potential solution, and tell us \"yes\" or \"no\".\n",
    "\n",
    "We can do this by considering some of the qubits to represent a proposed solution, and one other qubit to represent \"yes\" if it is $|1\\rangle$ or \"no\" if it is $|0\\rangle$. In the example implemented here, qubits 0 and 1 will represent potential solutions, and qubit 2 will represent the result of validating it.\n",
    "\n",
    "On a digital computer, we would think about this as bits. We would implement some logical operations that take two bits representing potential solutions and return another bit with the validation result. As we saw in the last notebook, we can implement the deterministic operations of a digital computer on a quantum computer by using X, CX, CCX, etc. operations.\n",
    "\n",
    "Let's say we want our verifier function to take state vectors where one of $|000\\rangle$, $|001\\rangle$, $|010\\rangle$, or $|011\\rangle$ rows has the value $1.0$ (100%), and only if it's the \"right\" one, will the state vector be changed so that the corresponding row where qubit 2 is $|1\\rangle$ becomes $1.0$. For example, if $|011\\rangle$ is the right solution, this would be implemented simply with the function CCX(0, 1, 2).\n",
    "\n",
    "Firstly, let's use X operations to encode the value 3 into the state vector, by putting the value $1.0$ in the $|011\\rangle$ ($|3\\rangle$) row."
   ]
  },
  {
   "cell_type": "code",
   "execution_count": 9,
   "id": "5f64c9be",
   "metadata": {},
   "outputs": [
    {
     "data": {
      "text/latex": [
       "$$\n",
       "\n",
       "\\begin{bmatrix}\n",
       "0  \\\\\n",
       " 0  \\\\\n",
       " 0  \\\\\n",
       " 1  \\\\\n",
       " 0  \\\\\n",
       " 0  \\\\\n",
       " 0  \\\\\n",
       " 0  \\\\\n",
       " \\end{bmatrix}\n",
       "$$"
      ],
      "text/plain": [
       "<IPython.core.display.Latex object>"
      ]
     },
     "execution_count": 9,
     "metadata": {},
     "output_type": "execute_result"
    }
   ],
   "source": [
    "q = QuantumRegister(3) # We want 3 qubits\n",
    "c = ClassicalRegister(2) # but we care about only 2 bits\n",
    "circuit = QuantumCircuit(q, c) # Sets up the quantum computer, a.k.a. quantum circuit\n",
    "circuit.x(0)\n",
    "circuit.x(1)\n",
    "\n",
    "v1 = Statevector(circuit)\n",
    "array_to_latex(np.vstack(v1.data))"
   ]
  },
  {
   "cell_type": "markdown",
   "id": "e898e0d9",
   "metadata": {},
   "source": [
    "Now if we perform CCX(0, 1, 2), the values in $|011\\rangle$ ($|3\\rangle$) and $|111\\rangle$ ($|7\\rangle$) will be swapped, moving the $1.0$ value to the final row, where qubit 2 has a value of $|1\\rangle$. Since we know that CCX is constrained to work only on these rows, we know that only where the $|011\\rangle$ potential solution is given the $1.0$ value will the state vector be changed to have $1.0$ on a row where qubit 2 is $|1\\rangle$. The other three potential solutions will result in no change."
   ]
  },
  {
   "cell_type": "code",
   "execution_count": 10,
   "id": "77a5c91a",
   "metadata": {},
   "outputs": [
    {
     "data": {
      "text/latex": [
       "$$\n",
       "\n",
       "\\begin{bmatrix}\n",
       "0  \\\\\n",
       " 0  \\\\\n",
       " 0  \\\\\n",
       " 0  \\\\\n",
       " 0  \\\\\n",
       " 0  \\\\\n",
       " 0  \\\\\n",
       " 1  \\\\\n",
       " \\end{bmatrix}\n",
       "$$"
      ],
      "text/plain": [
       "<IPython.core.display.Latex object>"
      ]
     },
     "execution_count": 10,
     "metadata": {},
     "output_type": "execute_result"
    }
   ],
   "source": [
    "circuit.ccx(0, 1, 2)\n",
    "v2 = Statevector(circuit)\n",
    "array_to_latex(np.vstack(v2.data))"
   ]
  },
  {
   "cell_type": "markdown",
   "id": "078619f9",
   "metadata": {},
   "source": [
    "To create different verifier functions, we can use X operations and specify either qubit 0 or qubit 1. For example, to create a function that will answer \"yes\" for the potential solution $|01\\rangle$ and \"no\" the other three potential solutions, we simply do X(1) before doing CCX(0, 1, 2). We will also do X(1) again after the CCX to \"undo\" the first X, and ensure the state vector has $1.0$ in the $|101\\rangle$ ($|5\\rangle$) row:\n",
    "| Qubits| Initial state vector | X(1) | CCX(0, 1, 2) | X(1) |\n",
    "| :- | :- | :- | :- | :- |\n",
    "| $|000\\rangle$ ($|0\\rangle$) | $0.0$ | $0.0$ | $0.0$ | $0.0$ |\n",
    "| $|001\\rangle$ ($|1\\rangle$) | $1.0$ | $0.0$ | $0.0$ | $0.0$ |\n",
    "| $|010\\rangle$ ($|2\\rangle$) | $0.0$ | $0.0$ | $0.0$ | $0.0$ |\n",
    "| $|011\\rangle$ ($|3\\rangle$) | $0.0$ | $1.0$ | $0.0$ | $0.0$ |\n",
    "| $|100\\rangle$ ($|4\\rangle$) | $0.0$ | $0.0$ | $0.0$ | $0.0$ |\n",
    "| $|101\\rangle$ ($|5\\rangle$) | $0.0$ | $0.0$ | $0.0$ | $1.0$ |\n",
    "| $|110\\rangle$ ($|6\\rangle$) | $0.0$ | $0.0$ | $0.0$ | $0.0$ |\n",
    "| $|111\\rangle$ ($|7\\rangle$) | $0.0$ | $0.0$ | $1.0$ | $0.0$ |\n",
    "\n",
    "Implementing this in Qiskit:"
   ]
  },
  {
   "cell_type": "code",
   "execution_count": 4,
   "id": "87a3f4a8",
   "metadata": {},
   "outputs": [],
   "source": [
    "# Verifies that a proposed solution is correct only when it is |10>\n",
    "def add_verify(circuit):\n",
    "    circuit.x(1)\n",
    "    circuit.ccx(0, 1, 2)\n",
    "    circuit.x(1)"
   ]
  },
  {
   "cell_type": "code",
   "execution_count": 5,
   "id": "8dfdecc9",
   "metadata": {},
   "outputs": [
    {
     "data": {
      "text/latex": [
       "$$\n",
       "\n",
       "\\begin{bmatrix}\n",
       "0  \\\\\n",
       " 0  \\\\\n",
       " 0  \\\\\n",
       " 0  \\\\\n",
       " 0  \\\\\n",
       " 1  \\\\\n",
       " 0  \\\\\n",
       " 0  \\\\\n",
       " \\end{bmatrix}\n",
       "$$"
      ],
      "text/plain": [
       "<IPython.core.display.Latex object>"
      ]
     },
     "execution_count": 5,
     "metadata": {},
     "output_type": "execute_result"
    }
   ],
   "source": [
    "circuit = QuantumCircuit(q, c) # Sets up the quantum computer, a.k.a. quantum circuit\n",
    "circuit.x(0) # Ensure the state vector has 100% in the |001> row\n",
    "add_verify(circuit)\n",
    "v3 = Statevector(circuit)\n",
    "array_to_latex(np.vstack(v3.data))"
   ]
  },
  {
   "cell_type": "markdown",
   "id": "edc7f93c",
   "metadata": {},
   "source": [
    "However, we need to modify the verifier function a little first. We are going to apply the H operation on the result qubit (qubit 2) before running the function, and then again afterwards.\n",
    "\n",
    "This is a little trick that turns an X operation into a Z operation. So, the CCX operation effectively becomes like a CCZ operation. And yes, the verifier function could have just been written with a CCZ instead of a CCX and we could skip the H operations, but digital computer operations don't use Z type operations, and this way the algorithm is more general."
   ]
  },
  {
   "cell_type": "code",
   "execution_count": 7,
   "id": "eb15475d",
   "metadata": {},
   "outputs": [],
   "source": [
    "def add_verify_with_h(circuit):\n",
    "    circuit.h(2)\n",
    "    add_verify(circuit)\n",
    "    circuit.h(2)"
   ]
  },
  {
   "cell_type": "markdown",
   "id": "77a688f2",
   "metadata": {},
   "source": [
    "This version of the function will now flip the sign of the state vector row with the answer. Unfortunately, we can't stop here with the job done, because in practice we can't read the state vector out of the quantum computer. All we can do is take measurements of the qubits, and while we can have a negative value in a row of a state vector, we won't see a negative probabilty appear in measurements.\n",
    "\n",
    "Grover's algorithm is about amplifying the negative row so it will have a higher probability in the measurements."
   ]
  },
  {
   "cell_type": "markdown",
   "id": "3ade181d",
   "metadata": {},
   "source": [
    "### Grover's algorithm\n",
    "Normally the verification function will be quite complicated, and difficult to figure out from just looking at it. Our verification function is simple, but that's fine for learning how Grover's algorithm works.\n",
    "\n",
    "The basic strategy for using Grover's algorithm is to:\n",
    "1. Prepare the state vector so it has the same value on every row, i.e. no row has a zero value.\n",
    "2. Apply the verification function, which will flip the sign of the row corresponding to the right answer.\n",
    "3. Amplify the negative rows compared to the non-negative rows.\n",
    "\n",
    "Then we measure the qubits, and the most likely result should be the right answer. For larger numbers of qubits, the steps 2 and 3 will typically be repeated to make the right answer clearer, but we shouldn't need to do that for our example.\n",
    "\n",
    "We've already defined the verification function, but here's the state preparation function:"
   ]
  },
  {
   "cell_type": "code",
   "execution_count": 8,
   "id": "bc294e5b",
   "metadata": {},
   "outputs": [],
   "source": [
    "def add_prepare(circuit):\n",
    "    circuit.h(0)\n",
    "    circuit.h(1)\n",
    "    circuit.h(2)"
   ]
  },
  {
   "cell_type": "markdown",
   "id": "f4efbfe2",
   "metadata": {},
   "source": [
    "It is just the approach to creating a uniform probability distribution that we saw in the first notebook.\n",
    "\n",
    "We can see how the verification function just flips the sign of the answer row ($|101\\rangle$) when given a state vector with $\\frac{1}{\\sqrt{8}}$ values in all of its rows:"
   ]
  },
  {
   "cell_type": "code",
   "execution_count": 19,
   "id": "22840323",
   "metadata": {},
   "outputs": [
    {
     "data": {
      "text/latex": [
       "$$\n",
       "\n",
       "\\begin{bmatrix}\n",
       "\\frac{\\sqrt{2}}{4}  \\\\\n",
       " \\frac{\\sqrt{2}}{4}  \\\\\n",
       " \\frac{\\sqrt{2}}{4}  \\\\\n",
       " \\frac{\\sqrt{2}}{4}  \\\\\n",
       " \\frac{\\sqrt{2}}{4}  \\\\\n",
       " - \\frac{\\sqrt{2}}{4}  \\\\\n",
       " \\frac{\\sqrt{2}}{4}  \\\\\n",
       " \\frac{\\sqrt{2}}{4}  \\\\\n",
       " \\end{bmatrix}\n",
       "$$"
      ],
      "text/plain": [
       "<IPython.core.display.Latex object>"
      ]
     },
     "execution_count": 19,
     "metadata": {},
     "output_type": "execute_result"
    }
   ],
   "source": [
    "circuit = QuantumCircuit(q, c) # Sets up the quantum computer, a.k.a. quantum circuit\n",
    "add_prepare(circuit)\n",
    "add_verify_with_h(circuit)\n",
    "v4 = Statevector(circuit)\n",
    "array_to_latex(np.vstack(v4.data))"
   ]
  },
  {
   "cell_type": "code",
   "execution_count": 21,
   "id": "d534d44c",
   "metadata": {},
   "outputs": [
    {
     "data": {
      "text/latex": [
       "$$\n",
       "\n",
       "\\begin{bmatrix}\n",
       "\\frac{\\sqrt{2}}{2}  \\\\\n",
       " \\frac{\\sqrt{2}}{4}  \\\\\n",
       " 0  \\\\\n",
       " - \\frac{\\sqrt{2}}{4}  \\\\\n",
       " 0  \\\\\n",
       " \\frac{\\sqrt{2}}{4}  \\\\\n",
       " 0  \\\\\n",
       " \\frac{\\sqrt{2}}{4}  \\\\\n",
       " \\end{bmatrix}\n",
       "$$"
      ],
      "text/plain": [
       "<IPython.core.display.Latex object>"
      ]
     },
     "execution_count": 21,
     "metadata": {},
     "output_type": "execute_result"
    }
   ],
   "source": [
    "circuit.h(1)\n",
    "v = Statevector(circuit)\n",
    "array_to_latex(np.vstack(v.data))"
   ]
  },
  {
   "cell_type": "markdown",
   "id": "8984324b",
   "metadata": {},
   "source": [
    "The amplification function requires a bit of explanation."
   ]
  },
  {
   "cell_type": "code",
   "execution_count": 13,
   "id": "cd9a8a7b",
   "metadata": {},
   "outputs": [
    {
     "data": {
      "text/latex": [
       "$$\n",
       "\n",
       "\\begin{bmatrix}\n",
       "\\frac{3}{4}  \\\\\n",
       " \\frac{1}{4}  \\\\\n",
       " - \\frac{1}{4}  \\\\\n",
       " \\frac{1}{4}  \\\\\n",
       " \\frac{1}{4}  \\\\\n",
       " - \\frac{1}{4}  \\\\\n",
       " \\frac{1}{4}  \\\\\n",
       " - \\frac{1}{4}  \\\\\n",
       " \\end{bmatrix}\n",
       "$$"
      ],
      "text/plain": [
       "<IPython.core.display.Latex object>"
      ]
     },
     "execution_count": 13,
     "metadata": {},
     "output_type": "execute_result"
    }
   ],
   "source": [
    "add_prepare(circuit)\n",
    "v5 = Statevector(circuit)\n",
    "array_to_latex(np.vstack(v5.data))"
   ]
  },
  {
   "cell_type": "code",
   "execution_count": null,
   "id": "b4cc9178",
   "metadata": {},
   "outputs": [],
   "source": [
    "\n",
    "def add_amplify(circuit):\n",
    "    prepare(circuit)\n",
    "    circuit.x(0)\n",
    "    circuit.x(1)\n",
    "    circuit.x(2)\n",
    "    circuit.ccz(0, 1, 2)\n",
    "    circuit.x(0)\n",
    "    circuit.x(1)\n",
    "    circuit.x(2)\n",
    "    prepare(circuit)\n",
    "    \n",
    "q = QuantumRegister(3) # We want 3 qubits\n",
    "c = ClassicalRegister(2) # but want to measure only 2 of them, so we need 2 bits\n",
    "circuit = QuantumCircuit(q, c) # Sets up the quantum computer, a.k.a. quantum circuit\n",
    "\n",
    "add_prepare(circuit)\n",
    "add_flipping_verify(circuit)\n",
    "add_amplify(circuit)\n",
    "\n",
    "circuit.measure(q[0:2], c)          # Measure the two qubits 0 and 1, and get some bits\n",
    "result = execute(circuit, backend, shots=1000).result()    # Run this all 1,000 times\n",
    "plot_histogram(result.get_counts(circuit))                 # Show a histogram of the results"
   ]
  },
  {
   "cell_type": "markdown",
   "id": "7954855f",
   "metadata": {},
   "source": [
    "### Grover's algorithm\n",
    "Let's put these new operations to work."
   ]
  },
  {
   "cell_type": "code",
   "execution_count": null,
   "id": "1bf6f25d",
   "metadata": {},
   "outputs": [],
   "source": [
    "from qiskit import QuantumCircuit, QuantumRegister, ClassicalRegister, execute, BasicAer\n",
    "from qiskit.visualization import plot_histogram, array_to_latex\n",
    "from qiskit.quantum_info import Statevector\n",
    "import numpy as np\n",
    "backend = BasicAer.get_backend('qasm_simulator')\n",
    "\n",
    "def add_cry(c, theta, x, y):\n",
    "    c.ry(theta/2, y)\n",
    "    c.cx(x, y)\n",
    "    c.ry(-theta/2, y)\n",
    "    c.cx(x, y)\n",
    "\n",
    "def add_ccx(c, x, y, z):\n",
    "    add_cry(c, np.pi/2, y, z)\n",
    "    c.cx(x, y)\n",
    "    add_cry(c, -np.pi/2, y, z)\n",
    "    c.cx(x, y)\n",
    "    add_cry(c, np.pi/2, x, z)\n",
    "\n",
    "def add_ccz(c, x, y, z):\n",
    "    c.h(z)\n",
    "    add_ccx(c, x, y, z)\n",
    "    c.h(z)\n",
    "\n",
    "q = QuantumRegister(3) # We want 3 qubits\n",
    "c = ClassicalRegister(2) # and also 2 bits\n",
    "circuit = QuantumCircuit(q, c) # Sets up the quantum computer, a.k.a. quantum circuit\n",
    "\n",
    "circuit.h(0)\n",
    "circuit.h(1)\n",
    "#circuit.x(2) # Need to include this if use X rather than RY operations\n",
    "circuit.h(2)\n",
    "\n",
    "# Black box that does X on qubit 2 iff qubits 0 and 1 are in the secret state (and leaves/returns them in that state).\n",
    "# Secret state is |01>, i.e. qubit 0 = |1>, qubit 1 = |0>.\n",
    "circuit.ry(np.pi, 1)\n",
    "add_ccx(circuit, 0, 1, 2)\n",
    "circuit.ry(-np.pi, 1)\n",
    "#This one works - equivalent to flipping the sign on the |001> row if everything is in equal superposition.\n",
    "#Also, only swaps to a state in the second half of the state vector if start in |001> row\n",
    "#circuit.x(1)\n",
    "#circuit.ccx(0,1,2)\n",
    "#circuit.x(1)\n",
    "v4 = Statevector(circuit)\n",
    "\n",
    "circuit.h(0)\n",
    "circuit.h(1)\n",
    "circuit.h(2)\n",
    "\n",
    "# Flip the sign on the |000> row:\n",
    "# Next three lines are equivalent to reversing the state vector\n",
    "circuit.ry(np.pi,0)\n",
    "circuit.ry(np.pi,1)\n",
    "circuit.ry(np.pi,2)\n",
    "#add_ccz(circuit, 0, 1, 2)\n",
    "circuit.ccz(2, 1, 0)\n",
    "# Then we \"un-reverse\" the state vector\n",
    "circuit.ry(-np.pi,0)\n",
    "circuit.ry(-np.pi,1)\n",
    "circuit.ry(-np.pi,2)\n",
    "\n",
    "circuit.h(0)\n",
    "circuit.h(1)\n",
    "circuit.h(2)\n",
    "\n",
    "array_to_latex(np.vstack(v4.data))\n",
    "\n",
    "#circuit.measure(q[0:2], c)          # Measure the two qubits 0 and 1, and get some bits\n",
    "#result = execute(circuit, backend, shots=1000).result()    # Run this all 1,000 times\n",
    "#plot_histogram(result.get_counts(circuit))                 # Show a histogram of the results"
   ]
  },
  {
   "cell_type": "code",
   "execution_count": null,
   "id": "ad5db113",
   "metadata": {},
   "outputs": [],
   "source": [
    "q = QuantumRegister(3) # We want 3 qubits\n",
    "c = ClassicalRegister(3) # and also 3 bits\n",
    "circuit = QuantumCircuit(q, c) # Sets up the quantum computer, a.k.a. quantum circuit\n",
    "\n",
    "circuit.h(0)\n",
    "circuit.h(1)\n",
    "circuit.x(2)\n",
    "circuit.h(2)\n",
    "verifier(circuit)\n",
    "\n",
    "circuit.h(0)\n",
    "circuit.h(1)\n",
    "circuit.h(2)\n",
    "\n",
    "#circuit.ry(np.pi,0)\n",
    "#circuit.ry(np.pi,1)\n",
    "#circuit.ry(np.pi,2)\n",
    "circuit.x(0)\n",
    "circuit.x(1)\n",
    "circuit.x(2)\n",
    "#add_ccz(circuit, 0, 1, 2)\n",
    "circuit.ccz(2, 1, 0)\n",
    "# Then we \"un-reverse\" the state vector\n",
    "#circuit.ry(-np.pi,0)\n",
    "#circuit.ry(-np.pi,1)\n",
    "#circuit.ry(-np.pi,2)\n",
    "circuit.x(0)\n",
    "circuit.x(1)\n",
    "circuit.x(2)\n",
    "\n",
    "v4 = Statevector(circuit)\n",
    "array_to_latex(np.vstack(v4.data))"
   ]
  },
  {
   "cell_type": "code",
   "execution_count": null,
   "id": "5cf30319",
   "metadata": {},
   "outputs": [],
   "source": []
  }
 ],
 "metadata": {
  "kernelspec": {
   "display_name": "Python 3 (ipykernel)",
   "language": "python",
   "name": "python3"
  },
  "language_info": {
   "codemirror_mode": {
    "name": "ipython",
    "version": 3
   },
   "file_extension": ".py",
   "mimetype": "text/x-python",
   "name": "python",
   "nbconvert_exporter": "python",
   "pygments_lexer": "ipython3",
   "version": "3.11.5"
  }
 },
 "nbformat": 4,
 "nbformat_minor": 5
}
