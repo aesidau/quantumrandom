{
 "cells": [
  {
   "cell_type": "markdown",
   "id": "d2f0335b",
   "metadata": {},
   "source": [
    "# Context for this set of Notebooks\n",
    "This set of Jupyter Notebooks is to support my blog posts on getting starting with quantum computing. I wanted to see if I could explain quantum computing in a different way. In particular, I want to avoid some of the things that I've seen in other introductory material like:\n",
    "* Using single qubit examples, as the intuition that is built up on single qubits doesn't really generalise to multi-qubit systems.\n",
    "* On that point, using the [Bloch Sphere](https://en.wikipedia.org/wiki/Bloch_sphere), which is useful only with a single qubit. Hence efforts to understand this are wasted when going multi-qubit.\n",
    "* Using [circuit notation](https://en.wikipedia.org/wiki/Quantum_circuit), which somewhat reflects the physical operations on quantum systems, and reuses the metal model of logic gates, but isn't oriented around the aspect of quantum computers where the exponential power comes from, notably the quantum state vector. Having to use ideas like \"phase kickbacks\" shows that this model is limiting. It feels like the [epi-cycles](https://en.wikipedia.org/wiki/Deferent_and_epicycle) explanation of astronomical orbits.\n",
    "* Using deep mathematics (by which I mean the combination of [Dirac notation](https://en.wikipedia.org/wiki/Bra%E2%80%93ket_notation), complex numbers and [linear algebra](https://en.wikipedia.org/wiki/Linear_algebra)), while the most accurate representation, makes the topic inaccessible for many.\n",
    "* Using quantum physics terms like entanglement, superposition and interference. These are useful for researchers and practictioners talking to each other, but less so for others who are just trying to understand how to use it - it creates another barrier.\n",
    "\n",
    "It could be that I am putting too many constraints on myself, but if it can be done, I want to see the result.\n",
    "\n",
    "These notebooks can be considered a proof-of-concept of how teaching quantum computing without the legacy of quantum physics looks like.\n",
    "\n",
    "A warning though - I am going to be using terms with very loose definitions and even using terms in ways that are not consistent with how they are used in quantum physics circles. This is done intentionally, as I am aiming to use them in ways that are closer to everyday usage, so that people can more readily grasp the concepts. Once the concepts are bedded down, I expect readers to move to other sources of information about quantum computing and they will get exposure to more of the nuances of the field there, except without bringing the baggage of a misaligned worldview that risks being established by thinking about quantum computing like a circuit or a qubit like a Bloch sphere."
   ]
  },
  {
   "cell_type": "markdown",
   "id": "16ba5610",
   "metadata": {},
   "source": [
    "### Installing the notebook files\n",
    "First, an easy way to download the files for this set of notebooks is using the git tool.\n",
    "```\n",
    "% git clone https://github.com/aesidau/quantumrandom.git\n",
    "```"
   ]
  },
  {
   "cell_type": "markdown",
   "id": "8b66845f",
   "metadata": {},
   "source": [
    "### Setting up the Python environment\n",
    "It's good practice to run Python code in its own distinct environment since different versions can be incompatible. I have a Mac, so I installed [Conda](https://docs.conda.io/en/latest/) using [Homebrew](https://brew.sh/):\n",
    "```\n",
    "% brew install --cask miniconda\n",
    "% conda init \"$(basename \"${SHELL}\")\"\n",
    "```"
   ]
  },
  {
   "cell_type": "markdown",
   "id": "0cee2ca8",
   "metadata": {},
   "source": [
    "### Setting up Jupyter Notebooks\n",
    "Next, use Conda to create an environment for these Notebooks, install [IBM's Qiskit](https://qiskit.org/) into it, and then start up the [Jupyter Notebooks](https://jupyter.org/) server.\n",
    "```\n",
    "% conda create -n quantumrandom python=3.11\n",
    "% conda activate quantumrandom\n",
    "% conda install -c conda-forge notebook\n",
    "% pip install qiskit ‘qiskit[visualization]’\n",
    "% jupyter notebook\n",
    "```"
   ]
  }
 ],
 "metadata": {
  "kernelspec": {
   "display_name": "Python 3 (ipykernel)",
   "language": "python",
   "name": "python3"
  },
  "language_info": {
   "codemirror_mode": {
    "name": "ipython",
    "version": 3
   },
   "file_extension": ".py",
   "mimetype": "text/x-python",
   "name": "python",
   "nbconvert_exporter": "python",
   "pygments_lexer": "ipython3",
   "version": "3.11.5"
  }
 },
 "nbformat": 4,
 "nbformat_minor": 5
}
