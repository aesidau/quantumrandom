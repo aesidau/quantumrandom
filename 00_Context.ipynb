{
 "cells": [
  {
   "cell_type": "markdown",
   "id": "d2f0335b",
   "metadata": {},
   "source": [
    "# Context for this set of Notebooks\n",
    "This set of Jupyter Notebooks is to support my blog posts on getting starting with quantum computing. I wanted to see if I could explain quantum computing without having to use [Bloch Spheres](https://en.wikipedia.org/wiki/Bloch_sphere), [circuit notation](https://en.wikipedia.org/wiki/Quantum_circuit) or deep mathematics, since I feel these create a false intuition around how qubits work. For instance, Block Spheres do not show entanglement, and circuit notation implies control travelling in one direction so misses phase kickbacks. Deep mathematics (by which I mean the combination of [Dirac notation](https://en.wikipedia.org/wiki/Bra%E2%80%93ket_notation), complex numbers and [linear algebra](https://en.wikipedia.org/wiki/Linear_algebra)), while the most accurate representation, makes the topic inaccessible for many."
   ]
  },
  {
   "cell_type": "markdown",
   "id": "8b66845f",
   "metadata": {},
   "source": [
    "### Setting up the Python environment\n",
    "First, it's good practice to run Python code in its own distinct environment since different versions can be incompatible. I have a Mac, so I installed [Conda](https://docs.conda.io/en/latest/) using [Homebrew](https://brew.sh/):\n",
    "```\n",
    "% brew install --cask miniconda\n",
    "% conda init \"$(basename \"${SHELL}\")\"\n",
    "```"
   ]
  },
  {
   "cell_type": "markdown",
   "id": "0cee2ca8",
   "metadata": {},
   "source": [
    "### Setting up Jupyter Notebooks\n",
    "Next, use Conda to create an environment for these Notebooks, install [IBM's Qiskit](https://qiskit.org/) into it, and then start up the [Jupyter Notebooks](https://jupyter.org/) server.\n",
    "```\n",
    "% conda create -n quantumrandom python=3.11\n",
    "% conda activate quantumrandom\n",
    "% conda install -c condo-forge notebook\n",
    "% pip install qiskit ‘qiskit[visualization]’\n",
    "% jupyter notebook\n",
    "```"
   ]
  }
 ],
 "metadata": {
  "kernelspec": {
   "display_name": "Python 3 (ipykernel)",
   "language": "python",
   "name": "python3"
  },
  "language_info": {
   "codemirror_mode": {
    "name": "ipython",
    "version": 3
   },
   "file_extension": ".py",
   "mimetype": "text/x-python",
   "name": "python",
   "nbconvert_exporter": "python",
   "pygments_lexer": "ipython3",
   "version": "3.11.5"
  }
 },
 "nbformat": 4,
 "nbformat_minor": 5
}
