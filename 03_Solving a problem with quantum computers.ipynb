{
 "cells": [
  {
   "cell_type": "markdown",
   "id": "3af92482",
   "metadata": {},
   "source": [
    "# Solving a problem with quantum computers\n",
    "Generating random numbers from a variety of specific probability distributions is interesting, but not enough to justify the hype around quantum computers. Let's now take an example of something where quantum computers can outperform digital computers. It's known as Grover's algorith, and allows a quantum computer to quickly figure out how an arbitrary \"search\" function behaves, where a digital computer would need to brute-force this and potentially try every possibility in turn.\n",
    "\n",
    "First, we need to introduce a few new operations. \n",
    "\n",
    "https://en.wikipedia.org/wiki/Grover%27s_algorithm\n",
    "https://www.ictp-saifr.org/wp-content/uploads/2022/11/ICTP_SAIFR_D1-L2.pdf\n",
    "https://qiskit.org/ecosystem/algorithms/tutorials/06_grover.html\n",
    "https://learn.qiskit.org/course/ch-algorithms/grovers-algorithm"
   ]
  },
  {
   "cell_type": "markdown",
   "id": "fa2812d1",
   "metadata": {},
   "source": [
    "### Z operation\n",
    "The Z operation works on all pairs of rows in the state vector associated with different values of a particular qubit, and flips the sign on the second row of each pair. We can call it the \"flip\" gate. Let's have a quick look at an example.\n",
    "\n",
    "If we start with an H(0) operator and an H(1) operator, as we did in the first notebook, we have the same value on each row of the state vector. If we then do a Z(0) follwed by a Z(1), you can see the signs flip but the numbers otherwise stay the same.\n",
    "| Qubits| Initial state vector | H(0) | H(1) | Z(0) | Z(1) |\n",
    "| :- | :- | :- | :- | :- | :- |\n",
    "| $|00\\rangle$ | $1.0$ | $\\frac{1}{\\sqrt{2}}$ | $\\frac{1}{2}$ | $\\frac{1}{2}$  | $\\frac{1}{2}$  |\n",
    "| $|01\\rangle$ | $0.0$ | $\\frac{1}{\\sqrt{2}}$ | $\\frac{1}{2}$ | -$\\frac{1}{2}$ | -$\\frac{1}{2}$ |\n",
    "| $|10\\rangle$ | $0.0$ | $0.0$                | $\\frac{1}{2}$ | $\\frac{1}{2}$  | -$\\frac{1}{2}$ |\n",
    "| $|11\\rangle$ | $0.0$ | $0.0$                | $\\frac{1}{2}$ | -$\\frac{1}{2}$ | $\\frac{1}{2}$  |\n",
    "\n",
    "We've been looking at two qubit systems so far, but let's see what this would look like on a three qubit system.\n",
    "| Qubits| Initial state vector | H(0) | H(1) | H(2) | Z(1) |\n",
    "| :- | :- | :- | :- | :- | :- |\n",
    "| $|000\\rangle$ | $1.0$ | $\\frac{1}{\\sqrt{2}}$ | $\\frac{1}{2}$ | $\\frac{1}{\\sqrt{8}}$ | $\\frac{1}{\\sqrt{8}}$  |\n",
    "| $|001\\rangle$ | $0.0$ | $\\frac{1}{\\sqrt{2}}$ | $\\frac{1}{2}$ | $\\frac{1}{\\sqrt{8}}$ | $\\frac{1}{\\sqrt{8}}$  |\n",
    "| $|010\\rangle$ | $0.0$ | $0.0$                | $\\frac{1}{2}$ | $\\frac{1}{\\sqrt{8}}$ | -$\\frac{1}{\\sqrt{8}}$ |\n",
    "| $|011\\rangle$ | $0.0$ | $0.0$                | $\\frac{1}{2}$ | $\\frac{1}{\\sqrt{8}}$ | -$\\frac{1}{\\sqrt{8}}$ |\n",
    "| $|100\\rangle$ | $0.0$ | $0.0$                | $0.0$         | $\\frac{1}{\\sqrt{8}}$ | $\\frac{1}{\\sqrt{8}}$  |\n",
    "| $|101\\rangle$ | $0.0$ | $0.0$                | $0.0$         | $\\frac{1}{\\sqrt{8}}$ | $\\frac{1}{\\sqrt{8}}$  |\n",
    "| $|110\\rangle$ | $0.0$ | $0.0$                | $0.0$         | $\\frac{1}{\\sqrt{8}}$ | -$\\frac{1}{\\sqrt{8}}$ |\n",
    "| $|111\\rangle$ | $0.0$ | $0.0$                | $0.0$         | $\\frac{1}{\\sqrt{8}}$ | -$\\frac{1}{\\sqrt{8}}$ |\n",
    "\n",
    "Again, the Z operator has flipped the sign of the second row of the pairs of rows associated with different values of a particular qubit, specifically qubit 1 here, which is the middle qubit. For example, the rows for $|000\\rangle$ and $|010\\rangle$ are a pair, since they differ only in qubit 1, and it is the second of these where the sign has flipped.\n",
    "\n",
    "### CZ operation\n",
    "We are also going to introduce another operation that works on two qubits - the CZ operation, or \"constrained flip\" operation. Like the CX operation (or \"constrained swap\"), the CZ operation is constrained to affect pairs of rows where the first qubit specified is in the $1\\rangle$ state. Technically, we don't really need to introduce this operation, as CZ($a$,$b$) is equivalent to performing the three operations H($b$), CX($a$,$b$), then H($b$) again. However, it makes things simpler to use it.\n",
    "\n",
    "Here's how performing CZ(0,1) would look in a two-qubit system:\n",
    "| Qubits| Initial state vector | H(0) | H(1) | CZ(0,1) |\n",
    "| :- | :- | :- | :- | :- |\n",
    "| $|00\\rangle$ | $1.0$ | $\\frac{1}{\\sqrt{2}}$ | $\\frac{1}{2}$ | $\\frac{1}{2}$  |\n",
    "| $|01\\rangle$ | $0.0$ | $\\frac{1}{\\sqrt{2}}$ | $\\frac{1}{2}$ | $\\frac{1}{2}$ | \n",
    "| $|10\\rangle$ | $0.0$ | $0.0$                | $\\frac{1}{2}$ | $\\frac{1}{2}$  | \n",
    "| $|11\\rangle$ | $0.0$ | $0.0$                | $\\frac{1}{2}$ | -$\\frac{1}{2}$ | \n",
    "\n",
    "It is constrained to look at only those rows where qubit 0 (the rightmost qubit) is $|1\\rangle$, which is the 2nd and 4th rows. Of these, they form a single pair of rows where only qubit 1 (the leftmost qubit) changes, and so the second of this pair (the 4th row) has its sign flipped."
   ]
  },
  {
   "cell_type": "markdown",
   "id": "7954855f",
   "metadata": {},
   "source": [
    "### Grover's algorithm\n",
    "Let's put these new operations to work."
   ]
  },
  {
   "cell_type": "code",
   "execution_count": 233,
   "id": "006dbefd",
   "metadata": {},
   "outputs": [
    {
     "data": {
      "image/png": "[encoded data removed]",
      "text/plain": [
       "<Figure size 700x500 with 1 Axes>"
      ]
     },
     "execution_count": 233,
     "metadata": {},
     "output_type": "execute_result"
    }
   ],
   "source": [
    "from qiskit import QuantumCircuit, QuantumRegister, ClassicalRegister, execute, BasicAer\n",
    "from qiskit.visualization import plot_histogram, array_to_latex\n",
    "from qiskit.quantum_info import Statevector\n",
    "import numpy as np\n",
    "backend = BasicAer.get_backend('qasm_simulator')\n",
    "\n",
    "def add_cry(c, theta, x, y):\n",
    "    c.ry(theta/2, y)\n",
    "    c.cx(x, y)\n",
    "    c.ry(-theta/2, y)\n",
    "    c.cx(x, y)\n",
    "    \n",
    "def add_ccx(c, x, y, z):\n",
    "    add_cry(c, np.pi/2, y, z)\n",
    "    c.cx(x, y)\n",
    "    add_cry(c, -np.pi/2, y, z)\n",
    "    c.cx(x, y)\n",
    "    add_cry(c, np.pi/2, x, z)\n",
    "\n",
    "def add_ccz(c, x, y, z):\n",
    "    c.h(z)\n",
    "    add_ccx(c, x, y, z)\n",
    "    c.h(z)\n",
    "\n",
    "q = QuantumRegister(3) # We want 3 qubits\n",
    "c = ClassicalRegister(2) # and also 2 bits\n",
    "circuit = QuantumCircuit(q, c) # Sets up the quantum computer, a.k.a. quantum circuit\n",
    "\n",
    "circuit.h(0)\n",
    "circuit.h(1)\n",
    "circuit.h(2)\n",
    "\n",
    "# Black box that does X on qubit 2 iff qubits 0 and 1 are in the secret state (and leaves/returns them in that state).\n",
    "# Secret state is |01>, i.e. qubit 0 = |1>, qubit 1 = |0>.\n",
    "circuit.ry(np.pi, 1)\n",
    "add_ccx(circuit, 0, 1, 2)\n",
    "circuit.ry(-np.pi, 1)\n",
    "#This one works - equivalent to flipping the sign on the |001> row if everything is in equal superposition.\n",
    "#Also, only swaps to a state in the second half of the state vector if start in |001> row\n",
    "#circuit.x(1)\n",
    "#circuit.ccx(0,1,2)\n",
    "#circuit.x(1)\n",
    "#v4 = Statevector(circuit)\n",
    "\n",
    "circuit.h(0)\n",
    "circuit.h(1)\n",
    "circuit.h(2)\n",
    "\n",
    "# Flip the sign on the |000> row:\n",
    "# Next three lines are equivalent to reversing the state vector\n",
    "circuit.ry(np.pi,0)\n",
    "circuit.ry(np.pi,1)\n",
    "circuit.ry(np.pi,2)\n",
    "#add_ccz(circuit, 0, 1, 2)\n",
    "circuit.ccz(2, 1, 0)\n",
    "# Then we \"un-reverse\" the state vector\n",
    "circuit.ry(-np.pi,0)\n",
    "circuit.ry(-np.pi,1)\n",
    "circuit.ry(-np.pi,2)\n",
    "\n",
    "circuit.h(0)\n",
    "circuit.h(1)\n",
    "circuit.h(2)\n",
    "\n",
    "#array_to_latex(np.vstack(v4.data))\n",
    "\n",
    "circuit.measure(q[0:2], c)          # Measure the two qubits 0 and 1, and get some bits\n",
    "result = execute(circuit, backend, shots=1000).result()    # Run this all 1,000 times\n",
    "plot_histogram(result.get_counts(circuit))                 # Show a histogram of the results"
   ]
  },
  {
   "cell_type": "code",
   "execution_count": null,
   "id": "5c8b8c12",
   "metadata": {},
   "outputs": [],
   "source": []
  }
 ],
 "metadata": {
  "kernelspec": {
   "display_name": "Python 3 (ipykernel)",
   "language": "python",
   "name": "python3"
  },
  "language_info": {
   "codemirror_mode": {
    "name": "ipython",
    "version": 3
   },
   "file_extension": ".py",
   "mimetype": "text/x-python",
   "name": "python",
   "nbconvert_exporter": "python",
   "pygments_lexer": "ipython3",
   "version": "3.11.5"
  }
 },
 "nbformat": 4,
 "nbformat_minor": 5
}
